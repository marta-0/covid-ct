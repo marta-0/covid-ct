{
 "cells": [
  {
   "cell_type": "code",
   "execution_count": 1,
   "metadata": {},
   "outputs": [],
   "source": [
    "seed = 1\n",
    "import random\n",
    "random.seed(seed)\n",
    "import os\n",
    "os.environ['CUDA_VISIBLE_DEVICES'] = '1'\n",
    "\n",
    "import json\n",
    "import glob\n",
    "\n",
    "import numpy as np\n",
    "np.random.seed(seed)\n",
    "import seaborn as sns\n",
    "sns.set(font_scale=1.5, style='white')\n",
    "import matplotlib.pyplot as plt\n",
    "from sklearn.metrics import roc_curve, roc_auc_score, precision_recall_curve, auc, f1_score, average_precision_score\n",
    "\n",
    "import tensorflow as tf\n",
    "tf.random.set_seed(seed)\n",
    "\n",
    "if len(tf.config.list_physical_devices('GPU')) > 0:\n",
    "    tf.config.experimental.set_memory_growth(tf.config.list_physical_devices('GPU')[0], True)\n",
    "\n",
    "from covid.models import *\n",
    "from covid.metrics import *\n",
    "from covid.utils import *"
   ]
  },
  {
   "cell_type": "markdown",
   "metadata": {},
   "source": [
    "## Lungs"
   ]
  },
  {
   "cell_type": "code",
   "execution_count": 16,
   "metadata": {},
   "outputs": [],
   "source": [
    "img_params = {'img_width': 330,\n",
    "              'img_height': 256}\n",
    "\n",
    "X_val = np.load('CT-COV-Lungs-Crop/Val/X_val.npy')\n",
    "y_val = np.load('CT-COV-Lungs-Crop/Val/y_val.npy')\n",
    "X_val_rgb = np.load('CT-COV-Lungs-Crop/Val/X_val_rgb.npy')\n",
    "y_val_rgb = np.load('CT-COV-Lungs-Crop/Val/y_val_rgb.npy')"
   ]
  },
  {
   "cell_type": "code",
   "execution_count": 3,
   "metadata": {},
   "outputs": [],
   "source": [
    "model_functions = [get_model_simple(**img_params), get_model_tiny(**img_params), get_model_small(**img_params), get_model_largew(**img_params), get_model_larget(**img_params)]\n",
    "model_functions_rgb = [get_efficientnet_b3(**img_params), load_efficientnet(**img_params)]"
   ]
  },
  {
   "cell_type": "code",
   "execution_count": 5,
   "metadata": {
    "tags": []
   },
   "outputs": [
    {
     "name": "stdout",
     "output_type": "stream",
     "text": [
      "WARNING:tensorflow:Unresolved object in checkpoint: (root).optimizer's state 'm' for (root).head.kernel\n"
     ]
    },
    {
     "name": "stderr",
     "output_type": "stream",
     "text": [
      "WARNING:tensorflow:Unresolved object in checkpoint: (root).optimizer's state 'm' for (root).head.kernel\n"
     ]
    },
    {
     "name": "stdout",
     "output_type": "stream",
     "text": [
      "WARNING:tensorflow:Unresolved object in checkpoint: (root).optimizer's state 'm' for (root).head.bias\n"
     ]
    },
    {
     "name": "stderr",
     "output_type": "stream",
     "text": [
      "WARNING:tensorflow:Unresolved object in checkpoint: (root).optimizer's state 'm' for (root).head.bias\n"
     ]
    },
    {
     "name": "stdout",
     "output_type": "stream",
     "text": [
      "WARNING:tensorflow:Unresolved object in checkpoint: (root).optimizer's state 'v' for (root).head.kernel\n"
     ]
    },
    {
     "name": "stderr",
     "output_type": "stream",
     "text": [
      "WARNING:tensorflow:Unresolved object in checkpoint: (root).optimizer's state 'v' for (root).head.kernel\n"
     ]
    },
    {
     "name": "stdout",
     "output_type": "stream",
     "text": [
      "WARNING:tensorflow:Unresolved object in checkpoint: (root).optimizer's state 'v' for (root).head.bias\n"
     ]
    },
    {
     "name": "stderr",
     "output_type": "stream",
     "text": [
      "WARNING:tensorflow:Unresolved object in checkpoint: (root).optimizer's state 'v' for (root).head.bias\n"
     ]
    },
    {
     "name": "stdout",
     "output_type": "stream",
     "text": [
      "WARNING:tensorflow:A checkpoint was restored (e.g. tf.train.Checkpoint.restore or tf.keras.Model.load_weights) but not all checkpointed values were used. See above for specific issues. Use expect_partial() on the load status object, e.g. tf.train.Checkpoint.restore(...).expect_partial(), to silence these warnings, or use assert_consumed() to make the check explicit. See https://www.tensorflow.org/guide/checkpoint#loading_mechanics for details.\n"
     ]
    },
    {
     "name": "stderr",
     "output_type": "stream",
     "text": [
      "WARNING:tensorflow:A checkpoint was restored (e.g. tf.train.Checkpoint.restore or tf.keras.Model.load_weights) but not all checkpointed values were used. See above for specific issues. Use expect_partial() on the load status object, e.g. tf.train.Checkpoint.restore(...).expect_partial(), to silence these warnings, or use assert_consumed() to make the check explicit. See https://www.tensorflow.org/guide/checkpoint#loading_mechanics for details.\n"
     ]
    },
    {
     "name": "stdout",
     "output_type": "stream",
     "text": [
      "Simple 0.8344785937236728\n",
      "Tiny 0.7658141302721877\n",
      "Small 0.8506604362721956\n",
      "LargeW 0.8379305014066212\n",
      "LargeT 0.9059615821998899\n",
      "EfficientNetB3-ImageNet 0.8961141223201491\n",
      "EfficientNetB3 0.8154017642404051\n",
      "GoogleBiT 0.8824758199636209\n"
     ]
    }
   ],
   "source": [
    "calculate_aucs('lungs', model_functions, model_functions_rgb, get_model_bit(), X_val, y_val, X_val_rgb, y_val_rgb, None)"
   ]
  },
  {
   "cell_type": "code",
   "execution_count": 7,
   "metadata": {
    "tags": []
   },
   "outputs": [
    {
     "name": "stdout",
     "output_type": "stream",
     "text": [
      "WARNING:tensorflow:Unresolved object in checkpoint: (root).optimizer's state 'm' for (root).head.kernel\n"
     ]
    },
    {
     "name": "stderr",
     "output_type": "stream",
     "text": [
      "WARNING:tensorflow:Unresolved object in checkpoint: (root).optimizer's state 'm' for (root).head.kernel\n"
     ]
    },
    {
     "name": "stdout",
     "output_type": "stream",
     "text": [
      "WARNING:tensorflow:Unresolved object in checkpoint: (root).optimizer's state 'm' for (root).head.bias\n"
     ]
    },
    {
     "name": "stderr",
     "output_type": "stream",
     "text": [
      "WARNING:tensorflow:Unresolved object in checkpoint: (root).optimizer's state 'm' for (root).head.bias\n"
     ]
    },
    {
     "name": "stdout",
     "output_type": "stream",
     "text": [
      "WARNING:tensorflow:Unresolved object in checkpoint: (root).optimizer's state 'v' for (root).head.kernel\n"
     ]
    },
    {
     "name": "stderr",
     "output_type": "stream",
     "text": [
      "WARNING:tensorflow:Unresolved object in checkpoint: (root).optimizer's state 'v' for (root).head.kernel\n"
     ]
    },
    {
     "name": "stdout",
     "output_type": "stream",
     "text": [
      "WARNING:tensorflow:Unresolved object in checkpoint: (root).optimizer's state 'v' for (root).head.bias\n"
     ]
    },
    {
     "name": "stderr",
     "output_type": "stream",
     "text": [
      "WARNING:tensorflow:Unresolved object in checkpoint: (root).optimizer's state 'v' for (root).head.bias\n"
     ]
    },
    {
     "name": "stdout",
     "output_type": "stream",
     "text": [
      "WARNING:tensorflow:A checkpoint was restored (e.g. tf.train.Checkpoint.restore or tf.keras.Model.load_weights) but not all checkpointed values were used. See above for specific issues. Use expect_partial() on the load status object, e.g. tf.train.Checkpoint.restore(...).expect_partial(), to silence these warnings, or use assert_consumed() to make the check explicit. See https://www.tensorflow.org/guide/checkpoint#loading_mechanics for details.\n"
     ]
    },
    {
     "name": "stderr",
     "output_type": "stream",
     "text": [
      "WARNING:tensorflow:A checkpoint was restored (e.g. tf.train.Checkpoint.restore or tf.keras.Model.load_weights) but not all checkpointed values were used. See above for specific issues. Use expect_partial() on the load status object, e.g. tf.train.Checkpoint.restore(...).expect_partial(), to silence these warnings, or use assert_consumed() to make the check explicit. See https://www.tensorflow.org/guide/checkpoint#loading_mechanics for details.\n"
     ]
    },
    {
     "name": "stdout",
     "output_type": "stream",
     "text": [
      "Simple 0.766936591111178\n",
      "Tiny 0.8496786653476291\n",
      "Small 0.8779882009541335\n",
      "LargeW 0.723855726663408\n",
      "LargeT 0.8384047042703558\n",
      "EfficientNetB3-ImageNet 0.8748933008801183\n",
      "EfficientNetB3 0.8214280749226622\n",
      "GoogleBiT 0.877586428372429\n"
     ]
    }
   ],
   "source": [
    "calculate_aucs('lungs-classw', model_functions, model_functions_rgb, get_model_bit(), X_val, y_val, X_val_rgb, y_val_rgb, None)"
   ]
  },
  {
   "cell_type": "code",
   "execution_count": 17,
   "metadata": {
    "tags": []
   },
   "outputs": [],
   "source": [
    "model_functions = [get_model_simple(if_dataaug=True, data_augmentation=dataaug_layer(0.05, -0.1, 0.05,num_channels=1, **img_params), **img_params), \n",
    "                   get_model_tiny(if_dataaug=True, data_augmentation=dataaug_layer(0.05, -0.1, 0.05, num_channels=1, **img_params), **img_params), \n",
    "                   get_model_small(if_dataaug=True, data_augmentation=dataaug_layer(0.05, -0.1, 0.05, num_channels=1, **img_params), **img_params), \n",
    "                   get_model_largew(if_dataaug=True, data_augmentation=dataaug_layer(0.05, -0.1, 0.05, num_channels=1, **img_params), **img_params), \n",
    "                   get_model_larget(if_dataaug=True, data_augmentation=dataaug_layer(0.05, -0.1, 0.05, num_channels=1, **img_params), **img_params)]\n",
    "model_functions_rgb = [get_efficientnet_b3(if_dataaug=True, data_augmentation=dataaug_layer(0.05, -0.1, 0.05, num_channels=3, **img_params), **img_params), \n",
    "                       load_efficientnet(if_dataaug=True, data_augmentation=dataaug_layer(0.05, -0.1, 0.05, num_channels=3, **img_params), **img_params)]"
   ]
  },
  {
   "cell_type": "code",
   "execution_count": 18,
   "metadata": {
    "tags": []
   },
   "outputs": [
    {
     "name": "stdout",
     "output_type": "stream",
     "text": [
      "Simple 0.8386739892152562\n",
      "Tiny 0.6291855944649363\n",
      "Small 0.7328643298794794\n",
      "LargeW 0.7413624455799733\n",
      "LargeT 0.7370594473277536\n",
      "EfficientNetB3-ImageNet 0.8306867780953033\n",
      "EfficientNetB3 0.8631683535554232\n",
      "GoogleBiT 0.8805053270317598\n"
     ]
    }
   ],
   "source": [
    "calculate_aucs('lungs-dataaug', model_functions, model_functions_rgb, get_model_bit(), X_val, y_val, X_val_rgb, y_val_rgb, None)"
   ]
  },
  {
   "cell_type": "code",
   "execution_count": 19,
   "metadata": {
    "tags": []
   },
   "outputs": [
    {
     "name": "stdout",
     "output_type": "stream",
     "text": [
      "WARNING:tensorflow:Unresolved object in checkpoint: (root).optimizer's state 'm' for (root).head.kernel\n"
     ]
    },
    {
     "name": "stderr",
     "output_type": "stream",
     "text": [
      "WARNING:tensorflow:Unresolved object in checkpoint: (root).optimizer's state 'm' for (root).head.kernel\n"
     ]
    },
    {
     "name": "stdout",
     "output_type": "stream",
     "text": [
      "WARNING:tensorflow:Unresolved object in checkpoint: (root).optimizer's state 'm' for (root).head.bias\n"
     ]
    },
    {
     "name": "stderr",
     "output_type": "stream",
     "text": [
      "WARNING:tensorflow:Unresolved object in checkpoint: (root).optimizer's state 'm' for (root).head.bias\n"
     ]
    },
    {
     "name": "stdout",
     "output_type": "stream",
     "text": [
      "WARNING:tensorflow:Unresolved object in checkpoint: (root).optimizer's state 'v' for (root).head.kernel\n"
     ]
    },
    {
     "name": "stderr",
     "output_type": "stream",
     "text": [
      "WARNING:tensorflow:Unresolved object in checkpoint: (root).optimizer's state 'v' for (root).head.kernel\n"
     ]
    },
    {
     "name": "stdout",
     "output_type": "stream",
     "text": [
      "WARNING:tensorflow:Unresolved object in checkpoint: (root).optimizer's state 'v' for (root).head.bias\n"
     ]
    },
    {
     "name": "stderr",
     "output_type": "stream",
     "text": [
      "WARNING:tensorflow:Unresolved object in checkpoint: (root).optimizer's state 'v' for (root).head.bias\n"
     ]
    },
    {
     "name": "stdout",
     "output_type": "stream",
     "text": [
      "WARNING:tensorflow:A checkpoint was restored (e.g. tf.train.Checkpoint.restore or tf.keras.Model.load_weights) but not all checkpointed values were used. See above for specific issues. Use expect_partial() on the load status object, e.g. tf.train.Checkpoint.restore(...).expect_partial(), to silence these warnings, or use assert_consumed() to make the check explicit. See https://www.tensorflow.org/guide/checkpoint#loading_mechanics for details.\n"
     ]
    },
    {
     "name": "stderr",
     "output_type": "stream",
     "text": [
      "WARNING:tensorflow:A checkpoint was restored (e.g. tf.train.Checkpoint.restore or tf.keras.Model.load_weights) but not all checkpointed values were used. See above for specific issues. Use expect_partial() on the load status object, e.g. tf.train.Checkpoint.restore(...).expect_partial(), to silence these warnings, or use assert_consumed() to make the check explicit. See https://www.tensorflow.org/guide/checkpoint#loading_mechanics for details.\n"
     ]
    },
    {
     "name": "stdout",
     "output_type": "stream",
     "text": [
      "Simple 0.8221301342782358\n",
      "Tiny 0.74587286414081\n",
      "Small 0.6603039235803525\n",
      "LargeW 0.6495041653668142\n",
      "LargeT 0.7399499855695522\n",
      "EfficientNetB3-ImageNet 0.8170386052013006\n",
      "EfficientNetB3 0.6806792153172947\n",
      "GoogleBiT 0.8812090546471881\n"
     ]
    }
   ],
   "source": [
    "calculate_aucs('lungs-classw-dataaug', model_functions, model_functions_rgb, get_model_bit(), X_val, y_val, X_val_rgb, y_val_rgb, None)"
   ]
  },
  {
   "cell_type": "code",
   "execution_count": 25,
   "metadata": {},
   "outputs": [
    {
     "data": {
      "image/png": "[encoded data removed]",
      "text/plain": [
       "<Figure size 1440x504 with 2 Axes>"
      ]
     },
     "metadata": {},
     "output_type": "display_data"
    }
   ],
   "source": [
    "model = get_efficientnet_b3(**img_params)\n",
    "model.load_weights('best-models/efficientnetb3-imagenet-weights/' + 'lungs' + '.ckpt')\n",
    "plt.figure(figsize=(20,7))\n",
    "plt.suptitle('EfficientNet B3 - pretrained on ImageNet (lungs-baseline)')\n",
    "plt.subplot(121)\n",
    "plot_roc_curves(model, X_val_rgb, y_val_rgb)\n",
    "plt.subplot(122)\n",
    "plot_pr_curves(model, X_val_rgb, y_val_rgb);"
   ]
  },
  {
   "cell_type": "markdown",
   "metadata": {},
   "source": [
    "## Lungs - no crop"
   ]
  },
  {
   "cell_type": "code",
   "execution_count": null,
   "metadata": {},
   "outputs": [],
   "source": [
    "img_params = {'img_width': 512,\n",
    "              'img_height': 512}\n",
    "\n",
    "X_val = np.load('CT-COV-Lungs/Val/X_val.npy')\n",
    "y_val = np.load('CT-COV-Lungs/Val/y_val.npy')\n",
    "X_val_rgb = np.load('CT-COV-Lungs/Val/X_val_rgb.npy')\n",
    "y_val_rgb = np.load('CT-COV-Lungs/Val/y_val_rgb.npy')"
   ]
  },
  {
   "cell_type": "code",
   "execution_count": null,
   "metadata": {
    "tags": []
   },
   "outputs": [],
   "source": [
    "model_functions = [get_model_simple(**img_params), get_model_tiny(**img_params), get_model_small(**img_params), get_model_largew(**img_params), get_model_larget(**img_params)]\n",
    "model_functions_rgb = [get_efficientnet_b3(**img_params), load_efficientnet(**img_params)]"
   ]
  },
  {
   "cell_type": "code",
   "execution_count": null,
   "metadata": {},
   "outputs": [],
   "source": [
    "calculate_aucs('lungs-nocrop', model_functions, model_functions_rgb, get_model_bit(), X_val, y_val, X_val_rgb, y_val_rgb, None)"
   ]
  },
  {
   "cell_type": "code",
   "execution_count": null,
   "metadata": {
    "tags": []
   },
   "outputs": [],
   "source": [
    "calculate_aucs('lungs-nocrop-classw', model_functions, model_functions_rgb, get_model_bit(), X_val, y_val, X_val_rgb, y_val_rgb, None)"
   ]
  },
  {
   "cell_type": "code",
   "execution_count": null,
   "metadata": {
    "tags": []
   },
   "outputs": [],
   "source": [
    "model_functions = [get_model_simple(if_dataaug=True, data_augmentation=dataaug_layer(0.1, -0.2, 0.15, num_channels=1, **img_params), **img_params), \n",
    "                   get_model_tiny(if_dataaug=True, data_augmentation=dataaug_layer(0.1, -0.2, 0.15, num_channels=1, **img_params), **img_params), \n",
    "                   get_model_small(if_dataaug=True, data_augmentation=dataaug_layer(0.1, -0.2, 0.15, num_channels=1, **img_params), **img_params), \n",
    "                   get_model_largew(if_dataaug=True, data_augmentation=dataaug_layer(0.1, -0.2, 0.15, num_channels=1, **img_params), **img_params), \n",
    "                   get_model_larget(if_dataaug=True, data_augmentation=dataaug_layer(0.1, -0.2, 0.15, num_channels=1, **img_params), **img_params)]\n",
    "model_functions_rgb = [get_efficientnet_b3(if_dataaug=True, data_augmentation=dataaug_layer(0.1, -0.2, 0.15, num_channels=3, **img_params), **img_params), \n",
    "                       load_efficientnet(if_dataaug=True, data_augmentation=dataaug_layer(0.1, -0.2, 0.15, num_channels=3, **img_params), **img_params)]"
   ]
  },
  {
   "cell_type": "code",
   "execution_count": null,
   "metadata": {
    "tags": []
   },
   "outputs": [],
   "source": [
    "calculate_aucs('lungs-nocrop-dataaug', model_functions, model_functions_rgb, get_model_bit(), X_val, y_val, X_val_rgb, y_val_rgb, None)"
   ]
  },
  {
   "cell_type": "code",
   "execution_count": null,
   "metadata": {
    "tags": []
   },
   "outputs": [],
   "source": [
    "calculate_aucs('lungs-nocrop-classw-dataaug', model_functions, model_functions_rgb, get_model_bit(), X_val, y_val, X_val_rgb, y_val_rgb, None)"
   ]
  },
  {
   "cell_type": "code",
   "execution_count": null,
   "metadata": {},
   "outputs": [],
   "source": [
    "model = load_efficientnet(**img_params)\n",
    "model.load_weights('best-models/efficientnetb3-weights/' + 'lungs-nocrop' + '.ckpt')\n",
    "plt.figure(figsize=(20,7))\n",
    "plt.suptitle('EfficientNet B3 (lungs-nocrop-baseline)')\n",
    "plt.subplot(121)\n",
    "plot_roc_curves(model, X_val_rgb, y_val_rgb)\n",
    "plt.subplot(122)\n",
    "plot_pr_curves(model, X_val_rgb, y_val_rgb);"
   ]
  },
  {
   "cell_type": "markdown",
   "metadata": {},
   "source": [
    "## Crop"
   ]
  },
  {
   "cell_type": "code",
   "execution_count": null,
   "metadata": {},
   "outputs": [],
   "source": [
    "img_params = {'img_width': 512,\n",
    "              'img_height': 328}\n",
    "\n",
    "X_val = np.load('CT-COV-Crop/Val/X_val.npy')\n",
    "y_val = np.load('CT-COV-Crop/Val/y_val.npy')\n",
    "X_val_rgb = np.load('CT-COV-Crop/Val/X_val_rgb.npy')\n",
    "y_val_rgb = np.load('CT-COV-Crop/Val/y_val_rgb.npy')"
   ]
  },
  {
   "cell_type": "code",
   "execution_count": null,
   "metadata": {
    "tags": []
   },
   "outputs": [],
   "source": [
    "model_functions = [get_model_simple(**img_params), get_model_tiny(**img_params), get_model_small(**img_params), get_model_largew(**img_params), get_model_larget(**img_params)]\n",
    "model_functions_rgb = [get_efficientnet_b3(**img_params), load_efficientnet(**img_params)]"
   ]
  },
  {
   "cell_type": "code",
   "execution_count": null,
   "metadata": {
    "tags": []
   },
   "outputs": [],
   "source": [
    "calculate_aucs('crop', model_functions, model_functions_rgb, get_model_bit(), X_val, y_val, X_val_rgb, y_val_rgb, None)"
   ]
  },
  {
   "cell_type": "code",
   "execution_count": null,
   "metadata": {
    "tags": []
   },
   "outputs": [],
   "source": [
    "calculate_aucs('crop-classw', model_functions, model_functions_rgb, get_model_bit(), X_val, y_val, X_val_rgb, y_val_rgb, None)"
   ]
  },
  {
   "cell_type": "code",
   "execution_count": null,
   "metadata": {
    "tags": []
   },
   "outputs": [],
   "source": [
    "model_functions = [get_model_simple(if_dataaug=True, data_augmentation=dataaug_layer(0.07, -0.1, 0.07, num_channels=1, **img_params), **img_params), \n",
    "                   get_model_tiny(if_dataaug=True, data_augmentation=dataaug_layer(0.07, -0.1, 0.07, num_channels=1, **img_params), **img_params), \n",
    "                   get_model_small(if_dataaug=True, data_augmentation=dataaug_layer(0.07, -0.1, 0.07, num_channels=1, **img_params), **img_params), \n",
    "                   get_model_largew(if_dataaug=True, data_augmentation=dataaug_layer(0.07, -0.1, 0.07, num_channels=1, **img_params), **img_params), \n",
    "                   get_model_larget(if_dataaug=True, data_augmentation=dataaug_layer(0.07, -0.1, 0.07, num_channels=1, **img_params), **img_params)]\n",
    "model_functions_rgb = [get_efficientnet_b3(if_dataaug=True, data_augmentation=dataaug_layer(0.07, -0.1, 0.07, num_channels=3, **img_params), **img_params), \n",
    "                       load_efficientnet(if_dataaug=True, data_augmentation=dataaug_layer(0.07, -0.1, 0.07, num_channels=3, **img_params), **img_params)]"
   ]
  },
  {
   "cell_type": "code",
   "execution_count": null,
   "metadata": {
    "tags": []
   },
   "outputs": [],
   "source": [
    "calculate_aucs('crop-dataaug', model_functions, model_functions_rgb, get_model_bit(), X_val, y_val, X_val_rgb, y_val_rgb, None)"
   ]
  },
  {
   "cell_type": "code",
   "execution_count": null,
   "metadata": {
    "tags": []
   },
   "outputs": [],
   "source": [
    "calculate_aucs('crop-classw-dataaug', model_functions, model_functions_rgb, get_model_bit(), X_val, y_val, X_val_rgb, y_val_rgb, None)"
   ]
  },
  {
   "cell_type": "markdown",
   "metadata": {},
   "source": [
    "## No background"
   ]
  },
  {
   "cell_type": "code",
   "execution_count": null,
   "metadata": {},
   "outputs": [],
   "source": [
    "img_params = {'img_width': 512,\n",
    "              'img_height': 512}\n",
    "\n",
    "X_val = np.load('CT-COV-Contour/Val/X_val.npy')\n",
    "y_val = np.load('CT-COV-Contour/Val/y_val.npy')\n",
    "X_val_rgb = np.load('CT-COV-Contour/Val/X_val_rgb.npy')\n",
    "y_val_rgb = np.load('CT-COV-Contour/Val/y_val_rgb.npy')"
   ]
  },
  {
   "cell_type": "code",
   "execution_count": null,
   "metadata": {},
   "outputs": [],
   "source": [
    "model_functions = [get_model_simple(**img_params), get_model_tiny(**img_params), get_model_small(**img_params), get_model_largew(**img_params), get_model_larget(**img_params)]\n",
    "model_functions_rgb = [get_efficientnet_b3(**img_params), load_efficientnet(**img_params)]"
   ]
  },
  {
   "cell_type": "code",
   "execution_count": null,
   "metadata": {
    "tags": []
   },
   "outputs": [],
   "source": [
    "calculate_aucs('nobackg', model_functions, model_functions_rgb, get_model_bit(), X_val, y_val, X_val_rgb, y_val_rgb, None)"
   ]
  },
  {
   "cell_type": "code",
   "execution_count": null,
   "metadata": {
    "tags": []
   },
   "outputs": [],
   "source": [
    "calculate_aucs('nobackg-classw', model_functions, model_functions_rgb, get_model_bit(), X_val, y_val, X_val_rgb, y_val_rgb, None)"
   ]
  },
  {
   "cell_type": "code",
   "execution_count": null,
   "metadata": {
    "tags": []
   },
   "outputs": [],
   "source": [
    "model_functions = [get_model_simple(if_dataaug=True, data_augmentation=dataaug_layer(0.1, -0.2, 0.1, num_channels=1, **img_params), **img_params), \n",
    "                   get_model_tiny(if_dataaug=True, data_augmentation=dataaug_layer(0.1, -0.2, 0.1, num_channels=1, **img_params), **img_params), \n",
    "                   get_model_small(if_dataaug=True, data_augmentation=dataaug_layer(0.1, -0.2, 0.1, num_channels=1, **img_params), **img_params), \n",
    "                   get_model_largew(if_dataaug=True, data_augmentation=dataaug_layer(0.1, -0.2, 0.1, num_channels=1, **img_params), **img_params), \n",
    "                   get_model_larget(if_dataaug=True, data_augmentation=dataaug_layer(0.1, -0.2, 0.1, num_channels=1, **img_params), **img_params)]\n",
    "model_functions_rgb = [get_efficientnet_b3(if_dataaug=True, data_augmentation=dataaug_layer(0.1, -0.2, 0.1, num_channels=3, **img_params), **img_params), \n",
    "                       load_efficientnet(if_dataaug=True, data_augmentation=dataaug_layer(0.1, -0.2, 0.1, num_channels=3, **img_params), **img_params)]"
   ]
  },
  {
   "cell_type": "code",
   "execution_count": null,
   "metadata": {
    "tags": []
   },
   "outputs": [],
   "source": [
    "calculate_aucs('nobackg-dataaug', model_functions, model_functions_rgb, get_model_bit(), X_val, y_val, X_val_rgb, y_val_rgb, None)"
   ]
  },
  {
   "cell_type": "code",
   "execution_count": null,
   "metadata": {
    "tags": []
   },
   "outputs": [],
   "source": [
    "calculate_aucs('nobackg-classw-dataaug', model_functions, model_functions_rgb,get_model_bit(), X_val, y_val, X_val_rgb, y_val_rgb, None)"
   ]
  },
  {
   "cell_type": "markdown",
   "metadata": {},
   "source": [
    "## Original images"
   ]
  },
  {
   "cell_type": "code",
   "execution_count": null,
   "metadata": {},
   "outputs": [],
   "source": [
    "img_params = {'img_width': 512,\n",
    "              'img_height': 512}\n",
    "\n",
    "X_val = np.load('CT-COV19/Val/X_val.npy')\n",
    "y_val = np.load('CT-COV19/Val/y_val.npy')\n",
    "X_val_rgb = np.load('CT-COV19/Val/X_val_rgb.npy')\n",
    "y_val_rgb = np.load('CT-COV19/Val/y_val_rgb.npy')"
   ]
  },
  {
   "cell_type": "code",
   "execution_count": null,
   "metadata": {
    "tags": []
   },
   "outputs": [],
   "source": [
    "model_functions = [get_model_simple(**img_params), get_model_tiny(**img_params), get_model_small(**img_params), get_model_largew(**img_params), get_model_larget(**img_params)]\n",
    "model_functions_rgb = [get_efficientnet_b3(**img_params), load_efficientnet(**img_params)]"
   ]
  },
  {
   "cell_type": "code",
   "execution_count": null,
   "metadata": {
    "tags": []
   },
   "outputs": [],
   "source": [
    "calculate_aucs('first', model_functions, model_functions_rgb, get_model_bit(), X_val, y_val, X_val_rgb, y_val_rgb, None)"
   ]
  },
  {
   "cell_type": "code",
   "execution_count": null,
   "metadata": {
    "tags": []
   },
   "outputs": [],
   "source": [
    "calculate_aucs('first-classw', model_functions, model_functions_rgb, get_model_bit(), X_val, y_val, X_val_rgb, y_val_rgb, None)"
   ]
  },
  {
   "cell_type": "code",
   "execution_count": null,
   "metadata": {
    "tags": []
   },
   "outputs": [],
   "source": [
    "model_functions = [get_model_simple(if_dataaug=True, data_augmentation=dataaug_layer(0.1, -0.2, 0.1, num_channels=1, **img_params), **img_params), \n",
    "                   get_model_tiny(if_dataaug=True, data_augmentation=dataaug_layer(0.1, -0.2, 0.1, num_channels=1, **img_params), **img_params), \n",
    "                   get_model_small(if_dataaug=True, data_augmentation=dataaug_layer(0.1, -0.2, 0.1, num_channels=1, **img_params), **img_params), \n",
    "                   get_model_largew(if_dataaug=True, data_augmentation=dataaug_layer(0.1, -0.2, 0.1, num_channels=1, **img_params), **img_params), \n",
    "                   get_model_larget(if_dataaug=True, data_augmentation=dataaug_layer(0.1, -0.2, 0.1, num_channels=1, **img_params), **img_params)]\n",
    "model_functions_rgb = [get_efficientnet_b3(if_dataaug=True, data_augmentation=dataaug_layer(0.1, -0.2, 0.1, num_channels=3, **img_params), **img_params), \n",
    "                       load_efficientnet(if_dataaug=True, data_augmentation=dataaug_layer(0.1, -0.2, 0.1, num_channels=3, **img_params), **img_params)]"
   ]
  },
  {
   "cell_type": "code",
   "execution_count": null,
   "metadata": {
    "tags": []
   },
   "outputs": [],
   "source": [
    "calculate_aucs('first-dataaug', model_functions, model_functions_rgb, get_model_bit(), X_val, y_val, X_val_rgb, y_val_rgb, None)"
   ]
  },
  {
   "cell_type": "code",
   "execution_count": null,
   "metadata": {
    "tags": []
   },
   "outputs": [],
   "source": [
    "calculate_aucs('first-classw-dataaug', model_functions, model_functions_rgb, get_model_bit(), X_val, y_val, X_val_rgb, y_val_rgb, None)"
   ]
  },
  {
   "cell_type": "code",
   "execution_count": null,
   "metadata": {},
   "outputs": [],
   "source": [
    "model = get_model_simple(if_dataaug=True, data_augmentation=dataaug_layer(0.1, -0.2, 0.1, num_channels=1, **img_params), **img_params)\n",
    "model.load_weights('best-models/simple-weights/' + 'first-classw-dataaug' + '.ckpt')\n",
    "plt.figure(figsize=(20,7))\n",
    "plt.suptitle('Simple Model (original-classw-dataaug)')\n",
    "plt.subplot(121)\n",
    "plot_roc_curves(model, X_val, y_val)\n",
    "plt.subplot(122)\n",
    "plot_pr_curves(model, X_val, y_val);"
   ]
  },
  {
   "cell_type": "code",
   "execution_count": null,
   "metadata": {},
   "outputs": [],
   "source": [
    "model = get_model_tiny(**img_params)\n",
    "model.load_weights('best-models/tiny-weights/' + 'first' + '.ckpt')\n",
    "plt.figure(figsize=(20,7))\n",
    "plt.suptitle('Tiny Model (original-baseline)')\n",
    "plt.subplot(121)\n",
    "plot_roc_curves(model, X_val, y_val)\n",
    "plt.subplot(122)\n",
    "plot_pr_curves(model, X_val, y_val);"
   ]
  },
  {
   "cell_type": "code",
   "execution_count": null,
   "metadata": {},
   "outputs": [],
   "source": [
    "model = get_model_small(**img_params)\n",
    "model.load_weights('best-models/small-weights/' + 'first' + '.ckpt')\n",
    "plt.figure(figsize=(20,7))\n",
    "plt.suptitle('Small Model (original-baseline)')\n",
    "plt.subplot(121)\n",
    "plot_roc_curves(model, X_val, y_val)\n",
    "plt.subplot(122)\n",
    "plot_pr_curves(model, X_val, y_val);"
   ]
  },
  {
   "cell_type": "code",
   "execution_count": null,
   "metadata": {},
   "outputs": [],
   "source": [
    "model = get_model_largew(**img_params)\n",
    "model.load_weights('best-models/largew-weights/' + 'first-classw' + '.ckpt')\n",
    "plt.figure(figsize=(20,7))\n",
    "plt.suptitle('LargeW Model (original-classw)')\n",
    "plt.subplot(121)\n",
    "plot_roc_curves(model, X_val, y_val)\n",
    "plt.subplot(122)\n",
    "plot_pr_curves(model, X_val, y_val);"
   ]
  },
  {
   "cell_type": "code",
   "execution_count": null,
   "metadata": {},
   "outputs": [],
   "source": [
    "model = get_model_larget(**img_params)\n",
    "model.load_weights('best-models/larget-weights/' + 'first' + '.ckpt')\n",
    "plt.figure(figsize=(20,7))\n",
    "plt.suptitle('LargeT Model (original-baseline)')\n",
    "plt.subplot(121)\n",
    "plot_roc_curves(model, X_val, y_val)\n",
    "plt.subplot(122)\n",
    "plot_pr_curves(model, X_val, y_val);"
   ]
  },
  {
   "cell_type": "code",
   "execution_count": null,
   "metadata": {},
   "outputs": [],
   "source": [
    "model = get_model_larget(**img_params)\n",
    "model.load_weights('best-models/larget-weights/' + 'first' + '.ckpt')\n",
    "plt.figure(figsize=(20,7))\n",
    "plt.suptitle('LargeT Model (original-baseline)')\n",
    "plt.subplot(121)\n",
    "plot_roc_curves(model, X_val, y_val)\n",
    "plt.subplot(122)\n",
    "plot_pr_curves(model, X_val, y_val);"
   ]
  },
  {
   "cell_type": "code",
   "execution_count": null,
   "metadata": {
    "tags": []
   },
   "outputs": [],
   "source": [
    "model = get_model_bit()\n",
    "model.load_weights('best-models/googlebit-weights/' + 'first' + '.ckpt')\n",
    "plt.figure(figsize=(20,7))\n",
    "plt.suptitle('ResNet-50 (original-baseline)')\n",
    "plt.subplot(121)\n",
    "plot_roc_curves(model, X_val_rgb/np.max(X_val_rgb), y_val_rgb)\n",
    "plt.subplot(122)\n",
    "plot_pr_curves(model, X_val_rgb/np.max(X_val_rgb), y_val_rgb);"
   ]
  }
 ],
 "metadata": {
  "kernelspec": {
   "display_name": "Python 3",
   "language": "python",
   "name": "python3"
  },
  "language_info": {
   "codemirror_mode": {
    "name": "ipython",
    "version": 3
   },
   "file_extension": ".py",
   "mimetype": "text/x-python",
   "name": "python",
   "nbconvert_exporter": "python",
   "pygments_lexer": "ipython3",
   "version": "3.7.4"
  }
 },
 "nbformat": 4,
 "nbformat_minor": 5
}
